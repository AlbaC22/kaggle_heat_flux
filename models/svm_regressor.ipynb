{
 "cells": [
  {
   "attachments": {},
   "cell_type": "markdown",
   "metadata": {},
   "source": [
    "# 🤖SVM Regressor"
   ]
  },
  {
   "cell_type": "code",
   "execution_count": 10,
   "metadata": {},
   "outputs": [],
   "source": [
    "from sklearn.model_selection import RandomizedSearchCV\n",
    "from sklearn.svm import SVR\n",
    "from scipy.stats import uniform\n",
    "import pandas as pd\n",
    "from sklearn.model_selection import train_test_split, GridSearchCV\n",
    "from sklearn.metrics import mean_squared_error"
   ]
  },
  {
   "cell_type": "code",
   "execution_count": 4,
   "metadata": {},
   "outputs": [],
   "source": [
    "data= pd.read_csv('../data/data_imputed/data_processed_newdata2.csv')"
   ]
  },
  {
   "cell_type": "code",
   "execution_count": 6,
   "metadata": {},
   "outputs": [],
   "source": [
    "'''\n",
    "Seleccionamos todas las filas de 'data' donde el valor de la columna 'x_e_out [-]' no es nulo, y lo almacenamos en un nuevo dataframe 'y_no_null'.\n",
    "'''\n",
    "no_null = data[data['x_e_out [-]'].notnull()]\n",
    "no_null.reset_index(drop=True, inplace=True)\n",
    "no_null= no_null.drop('id', axis=1)"
   ]
  },
  {
   "cell_type": "code",
   "execution_count": 7,
   "metadata": {},
   "outputs": [],
   "source": [
    "'''\n",
    "Seleccionamos todas las filas de 'data' donde el valor de la columna 'x_e_out [-]' es nulo, y lo almacenamos en un nuevo dataframe 'target_null'.\n",
    "'''\n",
    "null = data[data['x_e_out [-]'].isnull()]\n",
    "null.reset_index(drop=True, inplace=True)"
   ]
  },
  {
   "cell_type": "code",
   "execution_count": 8,
   "metadata": {},
   "outputs": [],
   "source": [
    "# Creamos una copia del DataFrame original\n",
    "no_null = no_null.copy()"
   ]
  },
  {
   "cell_type": "code",
   "execution_count": 11,
   "metadata": {},
   "outputs": [],
   "source": [
    "# Variables independientes\n",
    "X = no_null.drop('x_e_out [-]', axis=1)\n",
    "# Variable dependiente\n",
    "y = no_null['x_e_out [-]']\n",
    "\n",
    "import re \n",
    "# Preprocess column names\n",
    "X.columns = [re.sub(r'[\\[\\]<>\\s]+', '_', col) for col in X.columns]\n",
    "X.columns\n",
    "\n",
    "import re \n",
    "# Preprocess column names\n",
    "y = pd.DataFrame(y)\n",
    "y.columns = [re.sub(r'[\\[\\]<>\\s]+', '_', col) for col in y.columns]\n",
    "y.columns\n",
    "\n",
    "# Dividimos los datos en entrenamiento y prueba\n",
    "X_train, X_test, y_train, y_test = train_test_split(X, y, test_size=0.2, random_state=42)"
   ]
  },
  {
   "cell_type": "code",
   "execution_count": 13,
   "metadata": {},
   "outputs": [],
   "source": [
    "# Crear el modelo SVR\n",
    "svr = SVR()\n",
    "param_dist = {\n",
    "    'kernel': ['linear', 'rbf', 'poly'],\n",
    "    'C': uniform(loc=0, scale=10),\n",
    "    'gamma': ['scale', 'auto'] + list(uniform(loc=0, scale=1).rvs(10)),\n",
    "    'epsilon': uniform(loc=0, scale=1)\n",
    "}\n",
    "# Realizar la búsqueda aleatoria de hiperparámetros\n",
    "random_search = RandomizedSearchCV(svr, param_distributions=param_dist, n_iter=100, cv=5)\n",
    "random_search.fit(X_train, y_train)"
   ]
  },
  {
   "cell_type": "code",
   "execution_count": null,
   "metadata": {},
   "outputs": [],
   "source": [
    "# Obtener los mejores hiperparámetros y el mejor modelo\n",
    "best_params = random_search.best_params_\n",
    "best_model = random_search.best_estimator_"
   ]
  },
  {
   "cell_type": "code",
   "execution_count": null,
   "metadata": {},
   "outputs": [],
   "source": [
    "# Realizar predicciones con el mejor modelo\n",
    "y_pred = best_model.predict(X_test)"
   ]
  },
  {
   "cell_type": "code",
   "execution_count": null,
   "metadata": {},
   "outputs": [],
   "source": [
    "# Calcular el RMSE\n",
    "rmse = mean_squared_error(y_test, y_pred, squared=False)"
   ]
  },
  {
   "cell_type": "code",
   "execution_count": null,
   "metadata": {},
   "outputs": [],
   "source": [
    "# Imprimir el RMSE\n",
    "print(\"RMSE:\", rmse)"
   ]
  }
 ],
 "metadata": {
  "kernelspec": {
   "display_name": "Python 3",
   "language": "python",
   "name": "python3"
  },
  "language_info": {
   "codemirror_mode": {
    "name": "ipython",
    "version": 3
   },
   "file_extension": ".py",
   "mimetype": "text/x-python",
   "name": "python",
   "nbconvert_exporter": "python",
   "pygments_lexer": "ipython3",
   "version": "3.7.4"
  },
  "orig_nbformat": 4
 },
 "nbformat": 4,
 "nbformat_minor": 2
}
